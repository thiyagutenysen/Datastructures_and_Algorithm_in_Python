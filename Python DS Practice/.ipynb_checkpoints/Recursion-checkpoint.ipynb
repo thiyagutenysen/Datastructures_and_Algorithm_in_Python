{
 "cells": [
  {
   "cell_type": "code",
   "execution_count": 3,
   "metadata": {},
   "outputs": [
    {
     "name": "stdout",
     "output_type": "stream",
     "text": [
      "55\n"
     ]
    }
   ],
   "source": [
    "# fibonacci\n",
    "def fibonacci(n):\n",
    "    # conditions to end recursion\n",
    "    if n==0:\n",
    "        return 0\n",
    "    elif n==1:\n",
    "        return 1\n",
    "    # conditions to do recursion\n",
    "    else:\n",
    "        return fibonacci(n-1) + fibonacci(n-2)\n",
    "print(fibonacci(10))"
   ]
  },
  {
   "cell_type": "code",
   "execution_count": 4,
   "metadata": {},
   "outputs": [
    {
     "name": "stdout",
     "output_type": "stream",
     "text": [
      "3628800\n"
     ]
    }
   ],
   "source": [
    "# factorial\n",
    "def factorial(n):\n",
    "    # conditions to end recursion\n",
    "    if n==0:\n",
    "        return 1\n",
    "    # conditions to do recursion\n",
    "    else:\n",
    "        return n*factorial(n-1)\n",
    "print(factorial(10))"
   ]
  },
  {
   "cell_type": "code",
   "execution_count": 40,
   "metadata": {},
   "outputs": [
    {
     "name": "stdout",
     "output_type": "stream",
     "text": [
      "----\n",
      "-\n",
      "--\n",
      "-\n",
      "---\n",
      "-\n",
      "--\n",
      "-\n",
      "----\n",
      "-\n",
      "--\n",
      "-\n",
      "---\n",
      "-\n",
      "--\n",
      "-\n",
      "----\n"
     ]
    }
   ],
   "source": [
    "# Drawing an english ruler\n",
    "# if we are about to control 2 variables in a recursion we are about to use 2 recursive function\n",
    "\n",
    "# thich function controls inch\n",
    "# this function calls the second function\n",
    "def master(inch, length):\n",
    "    \n",
    "    for _ in range(length):\n",
    "        print('-', end='')\n",
    "    print()\n",
    "    \n",
    "    if inch<1:\n",
    "        return\n",
    "    \n",
    "    else:\n",
    "        ruler(length-1)\n",
    "        master(inch-1, length)\n",
    "        \n",
    "\n",
    "# this function controls length\n",
    "def ruler(length):\n",
    "    \n",
    "    if length<1:\n",
    "        return\n",
    "    \n",
    "    else:\n",
    "        ruler(length-1)\n",
    "        for _ in range(length):\n",
    "            print('-', end='')\n",
    "        print()\n",
    "        ruler(length-1)\n",
    "        \n",
    "        \n",
    "master(2,4)"
   ]
  },
  {
   "cell_type": "code",
   "execution_count": 61,
   "metadata": {},
   "outputs": [
    {
     "name": "stdout",
     "output_type": "stream",
     "text": [
      "Found\n"
     ]
    }
   ],
   "source": [
    "# Binary Search\n",
    "def binary_search(array, start, end, num):\n",
    "    \n",
    "    if start > end:\n",
    "        print(\"Not Found\")\n",
    "        return\n",
    "    \n",
    "    else:\n",
    "        mid_index = (end+start)//2\n",
    "        mid_num = array[mid_index]\n",
    "        if mid_num == num:\n",
    "            print('Found')\n",
    "            return\n",
    "        elif mid_num < num:\n",
    "            start = mid_index+1\n",
    "        else:\n",
    "            end = mid_index-1\n",
    "        binary_search(array, start, end, num)\n",
    "        \n",
    "        \n",
    "array = [1,2,3,4,5,6,7,8,9]\n",
    "start = 0\n",
    "end = len(array)-1\n",
    "num = 1\n",
    "binary_search(array, start, end, num)"
   ]
  },
  {
   "cell_type": "code",
   "execution_count": 63,
   "metadata": {},
   "outputs": [
    {
     "data": {
      "text/plain": [
       "(55, 34)"
      ]
     },
     "execution_count": 63,
     "metadata": {},
     "output_type": "execute_result"
    }
   ],
   "source": [
    "# Effecient Fibonacci\n",
    "def eff_fibonacci(n):\n",
    "    if n <= 1:\n",
    "        return (n,0)\n",
    "    else:\n",
    "        (a, b) = eff_fibonacci(n-1)\n",
    "        return (a+b, a)\n",
    "eff_fibonacci(10)"
   ]
  },
  {
   "cell_type": "code",
   "execution_count": null,
   "metadata": {},
   "outputs": [],
   "source": []
  }
 ],
 "metadata": {
  "kernelspec": {
   "display_name": "Python 3",
   "language": "python",
   "name": "python3"
  },
  "language_info": {
   "codemirror_mode": {
    "name": "ipython",
    "version": 3
   },
   "file_extension": ".py",
   "mimetype": "text/x-python",
   "name": "python",
   "nbconvert_exporter": "python",
   "pygments_lexer": "ipython3",
   "version": "3.7.7"
  }
 },
 "nbformat": 4,
 "nbformat_minor": 4
}
