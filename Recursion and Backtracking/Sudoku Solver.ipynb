{
 "cells": [
  {
   "cell_type": "code",
   "execution_count": 9,
   "id": "6d8091db",
   "metadata": {},
   "outputs": [],
   "source": [
    "import numpy as np"
   ]
  },
  {
   "cell_type": "code",
   "execution_count": 10,
   "id": "5e47a487",
   "metadata": {},
   "outputs": [],
   "source": [
    "def possible(x, y, n):\n",
    "    global grid\n",
    "    for i in range(9):\n",
    "        if grid[i][y] == n:\n",
    "            return False\n",
    "    for j in range(9):\n",
    "        if grid[x][j] == n:\n",
    "            return False\n",
    "    start_x = (x//3) * 3\n",
    "    start_y = (y//3) * 3\n",
    "    for i in range(start_x, start_x+3):\n",
    "        for j in range(start_y, start_y+3):\n",
    "            if grid[i][j] == n:\n",
    "                return False\n",
    "    return True"
   ]
  },
  {
   "cell_type": "code",
   "execution_count": 13,
   "id": "5d51e9ab",
   "metadata": {},
   "outputs": [],
   "source": [
    "def sudoku_solver():\n",
    "    global grid\n",
    "    for row in range(9):\n",
    "        for col in range(9):\n",
    "            if grid[row][col] == 0:\n",
    "                for n in range(1, 10):\n",
    "                    if possible(row, col, n):\n",
    "                        grid[row][col] = n\n",
    "                        sudoku_solver()\n",
    "                        grid[row][col] = 0\n",
    "                return\n",
    "    print(grid)\n",
    "    input(\"more?\")"
   ]
  },
  {
   "cell_type": "code",
   "execution_count": 14,
   "id": "13fd647d",
   "metadata": {},
   "outputs": [
    {
     "name": "stdout",
     "output_type": "stream",
     "text": [
      "[[5 3 4 6 7 8 9 1 2]\n",
      " [6 7 2 1 9 5 3 4 8]\n",
      " [1 9 8 3 4 2 5 6 7]\n",
      " [8 5 9 7 6 1 4 2 3]\n",
      " [4 2 6 8 5 3 7 9 1]\n",
      " [7 1 3 9 2 4 8 5 6]\n",
      " [9 6 1 5 3 7 2 8 4]\n",
      " [2 8 7 4 1 9 6 3 5]\n",
      " [3 4 5 2 8 6 1 7 9]]\n",
      "more?\n"
     ]
    }
   ],
   "source": [
    "grid = np.array([[5, 3, 0, 0, 7, 0, 0, 0, 0],\n",
    "                 [6, 0, 0, 1, 9, 5, 0, 0, 0],\n",
    "                 [0, 9, 8, 0, 0, 0, 0, 6, 0],\n",
    "                 [8, 0, 0, 0, 6, 0, 0, 0, 3],\n",
    "                 [4, 0, 0, 8, 0, 3, 0, 0, 1],\n",
    "                 [7, 0, 0, 0, 2, 0, 0, 0, 6],\n",
    "                 [0, 6, 0, 0, 0, 0, 2, 8, 0],\n",
    "                 [0, 0, 0, 4, 1, 9, 0, 0, 5],\n",
    "                 [0, 0, 0, 0, 8, 0, 0, 7, 9]])\n",
    "sudoku_solver()"
   ]
  },
  {
   "cell_type": "code",
   "execution_count": 17,
   "id": "e0da86f4",
   "metadata": {},
   "outputs": [
    {
     "name": "stdout",
     "output_type": "stream",
     "text": [
      "[[8 1 9 4 3 6 5 2 7]\n",
      " [4 6 2 7 5 1 3 9 8]\n",
      " [5 7 3 2 9 8 4 1 6]\n",
      " [2 9 4 6 8 7 1 3 5]\n",
      " [1 5 7 9 2 3 8 6 4]\n",
      " [6 3 8 1 4 5 2 7 9]\n",
      " [7 4 5 3 6 2 9 8 1]\n",
      " [9 2 6 8 1 4 7 5 3]\n",
      " [3 8 1 5 7 9 6 4 2]]\n",
      "CPU times: user 465 ms, sys: 0 ns, total: 465 ms\n",
      "Wall time: 466 ms\n"
     ]
    }
   ],
   "source": [
    "%%time\n",
    "import numpy as np\n",
    "\n",
    "\n",
    "def possible(grid, x, y, n):\n",
    "    #global grid\n",
    "    for i in range(9):\n",
    "        if grid[i][y] == n:\n",
    "            return False\n",
    "    for j in range(9):\n",
    "        if grid[x][j] == n:\n",
    "            return False\n",
    "    start_x = (x//3) * 3\n",
    "    start_y = (y//3) * 3\n",
    "    for i in range(start_x, start_x+3):\n",
    "        for j in range(start_y, start_y+3):\n",
    "            if grid[i][j] == n:\n",
    "                return False\n",
    "    return True\n",
    "\n",
    "\n",
    "def completed(grid):\n",
    "    #global grid\n",
    "    for i in range(9):\n",
    "        for j in range(9):\n",
    "            if grid[i][j] == 0:\n",
    "                return False\n",
    "    return True\n",
    "\n",
    "\n",
    "def sudoku_solver(grid):\n",
    "    #global grid\n",
    "    for row in range(9):\n",
    "        for col in range(9):\n",
    "            if grid[row][col] == 0:\n",
    "                for n in range(1, 10):\n",
    "                    if possible(grid, row, col, n):\n",
    "                        grid[row][col] = n\n",
    "                        if completed(grid):\n",
    "                            print(grid)\n",
    "                        sudoku_solver(grid)\n",
    "                        grid[row][col] = 0\n",
    "                return\n",
    "\n",
    "\n",
    "grid = np.array([[8, 1, 0, 0, 3, 0, 0, 2, 7],\n",
    "                 [0, 6, 2, 0, 5, 0, 0, 9, 0],\n",
    "                 [0, 7, 0, 0, 0, 0, 0, 0, 0],\n",
    "                 [0, 9, 0, 6, 0, 0, 1, 0, 0],\n",
    "                 [1, 0, 0, 0, 2, 0, 0, 0, 4],\n",
    "                 [0, 0, 8, 0, 0, 5, 0, 7, 0],\n",
    "                 [0, 0, 0, 0, 0, 0, 0, 8, 0],\n",
    "                 [0, 2, 0, 0, 1, 0, 7, 5, 0],\n",
    "                 [3, 8, 0, 0, 7, 0, 0, 4, 2]])\n",
    "sudoku_solver(grid)"
   ]
  },
  {
   "cell_type": "code",
   "execution_count": null,
   "id": "a29e921f",
   "metadata": {},
   "outputs": [],
   "source": []
  }
 ],
 "metadata": {
  "kernelspec": {
   "display_name": "Python 3",
   "language": "python",
   "name": "python3"
  },
  "language_info": {
   "codemirror_mode": {
    "name": "ipython",
    "version": 3
   },
   "file_extension": ".py",
   "mimetype": "text/x-python",
   "name": "python",
   "nbconvert_exporter": "python",
   "pygments_lexer": "ipython3",
   "version": "3.7.7"
  }
 },
 "nbformat": 4,
 "nbformat_minor": 5
}
