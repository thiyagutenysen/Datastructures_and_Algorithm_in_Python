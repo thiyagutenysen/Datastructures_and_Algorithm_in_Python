{
 "cells": [
  {
   "cell_type": "code",
   "execution_count": 1,
   "source": [
    "# https://www.geeksforgeeks.org/priority-queue-set-1-introduction/\n",
    "# https://www.geeksforgeeks.org/heap-queue-or-heapq-in-python/\n",
    "\n",
    "# Priority Queue is an extension of queue with following properties.\n",
    "\n",
    "# Every item has a priority associated with it.\n",
    "# An element with high priority is dequeued before an element with low priority.\n",
    "# If two elements have the same priority, they are served according to their order in the queue.\n",
    "\n",
    "# A typical priority queue supports following operations.\n",
    "# insert(item, priority): Inserts an item with given priority.\n",
    "# getHighestPriority(): Returns the highest priority item.\n",
    "# deleteHighestPriority(): Removes the highest priority item.\n",
    "\n",
    "# when we use array it takes O(1) for insertion, O(n) for getpriority, O(n) for delete\n",
    "# when we use linked list it takes O(1) for insertion, O(n) for getpriority, O(n) for delete\n",
    "# when we use heap it takes O(logn) for insertion, O(1) for getpriority, O(logn) for delete\n",
    "# when we use fibonacci heap it takes O(1) for insertion, O(1) for getpriority, O(logn) for delete"
   ],
   "outputs": [],
   "metadata": {}
  },
  {
   "cell_type": "code",
   "execution_count": 3,
   "source": [
    "# Simple implementation using python list\n",
    "class PriorityQueue:\n",
    "\tdef __init__(self):\n",
    "\t\tself.pqueue = []\n",
    "\tdef is_empty(self):\n",
    "\t\tif not self.pqueue:\n",
    "\t\t\treturn True\n",
    "\t\treturn False\n",
    "\tdef get_priority(self):\n",
    "\t\tif self.is_empty():\n",
    "\t\t\treturn None\n",
    "\t\treturn max(self.pqueue)\n",
    "\tdef insert(self, data):\n",
    "\t\tself.pqueue.append(data)\n",
    "\tdef delete(self):\n",
    "\t\tif self.is_empty():\n",
    "\t\t\tprint()\n",
    "\t\t\treturn None\n",
    "\t\tmax_index = self.pqueue.index(max(self.pqueue))\n",
    "\t\tpopped_item = self.pqueue[max_index]\n",
    "\t\tself.pqueue.pop(max_index)\n",
    "\t\treturn popped_item\n",
    "myQueue = PriorityQueue()\n",
    "myQueue.insert(12)\n",
    "myQueue.insert(1)\n",
    "myQueue.insert(14)\n",
    "myQueue.insert(7)\n",
    "print(myQueue)            \n",
    "while not myQueue.is_empty():\n",
    "\tprint(myQueue.delete())\n"
   ],
   "outputs": [
    {
     "output_type": "stream",
     "name": "stdout",
     "text": [
      "<__main__.PriorityQueue object at 0x7f0731f23ad0>\n",
      "14\n",
      "12\n",
      "7\n",
      "1\n"
     ]
    }
   ],
   "metadata": {}
  },
  {
   "cell_type": "code",
   "execution_count": 10,
   "source": [
    "# Priority queue using heapq module\n",
    "\n",
    "import heapq as hq\n",
    "\n",
    "# The priority queue is implemented in Python as a list of tuples where the tuple contains \n",
    "# the priority as the first element and the value as the next element.\n",
    "# Example : [ (1, 2), (2, 3), (4, 5), (6,7)]\n",
    "# consider (1,2) : \n",
    "# Priority : 1\n",
    "# Value/element : 2\n",
    "\n",
    "class PriorityQueue:\n",
    "\tdef __init__(self):\n",
    "\t\tself.pqueue = []\n",
    "\tdef is_empty(self):\n",
    "\t\tif not self.pqueue:\n",
    "\t\t\treturn True\n",
    "\t\treturn False\n",
    "\tdef get_priority(self):\n",
    "\t\tif self.is_empty():\n",
    "\t\t\treturn None\n",
    "\t\treturn self.pqueue[0][1]\n",
    "\tdef insert(self, priority, data):\n",
    "\t\thq.heappush(self.pqueue, (-1*priority, data))\n",
    "\tdef delete(self):\n",
    "\t\tif self.is_empty():\n",
    "\t\t\treturn None\n",
    "\t\treturn (hq.heappop(self.pqueue))[1]\n",
    "\tdef heapify(self, array):\n",
    "\t\tnew_array = []\n",
    "\t\tfor i in array:\n",
    "\t\t\ta = -1*i[0]\n",
    "\t\t\tb = i[1]\n",
    "\t\t\tnew_array.append((a,b))\n",
    "\t\tself.pqueue.extend(new_array)\n",
    "\t\thq.heapify(self.pqueue)\n",
    "\n",
    "list_stu = [(5,'Rina'),(1,'Anish'),(3,'Moana'),(2,'cathy'),(4,'Lucy')]\n",
    "priority_queue = PriorityQueue()\n",
    "priority_queue.heapify(list_stu)\n",
    "print(\"priority queue = \", priority_queue.pqueue)\n",
    "priority_queue.insert(10, 'stiles')\n",
    "print(\"priority queue = \", priority_queue.pqueue)\n",
    "print(\"priority = \", priority_queue.get_priority())\n",
    "print(\"deletion =\", priority_queue.delete())\n",
    "print(\"deletion =\", priority_queue.delete())\n",
    "print(\"deletion =\", priority_queue.delete())\n",
    "print(\"deletion =\", priority_queue.delete())\n",
    "print(\"deletion =\", priority_queue.delete())\n",
    "print(\"deletion =\", priority_queue.delete())\n",
    "print(\"deletion =\", priority_queue.delete())"
   ],
   "outputs": [
    {
     "output_type": "stream",
     "name": "stdout",
     "text": [
      "priority queue =  [(-5, 'Rina'), (-4, 'Lucy'), (-3, 'Moana'), (-2, 'cathy'), (-1, 'Anish')]\n",
      "priority queue =  [(-10, 'stiles'), (-4, 'Lucy'), (-5, 'Rina'), (-2, 'cathy'), (-1, 'Anish'), (-3, 'Moana')]\n",
      "priority =  stiles\n",
      "deletion = stiles\n",
      "deletion = Rina\n",
      "deletion = Lucy\n",
      "deletion = Moana\n",
      "deletion = cathy\n",
      "deletion = Anish\n",
      "deletion = None\n"
     ]
    }
   ],
   "metadata": {}
  },
  {
   "cell_type": "code",
   "execution_count": 19,
   "source": [
    "# Priority queue using queue module\n",
    "from queue import PriorityQueue\n",
    "\n",
    "# The priority queue is implemented in Python as a list of tuples where the tuple contains \n",
    "# the priority as the first element and the value as the next element.\n",
    "# Example : [ (1, 2), (2, 3), (4, 5), (6,7)]\n",
    "# consider (1,2) : \n",
    "# Priority : 1\n",
    "# Value/element : 2\n",
    "\n",
    "class priorityQueue:\n",
    "\tdef __init__(self):\n",
    "\t\tself.pqueue = PriorityQueue()\n",
    "\tdef is_empty(self):\n",
    "\t\treturn self.pqueue.empty()\n",
    "\tdef get_size(self):\n",
    "\t\treturn self.pqueue.qsize()\n",
    "\tdef get_priority(self):\n",
    "\t\treturn self.pqueue.queue[0][1]\n",
    "\tdef insert(self, priority, data):\n",
    "\t\tself.pqueue.put((-1*priority, data))\n",
    "\tdef delete(self):\n",
    "\t\treturn self.pqueue.get()\n",
    "\tdef heapify(self, array):\n",
    "\t\tnew_array = []\n",
    "\t\tfor i in array:\n",
    "\t\t\ta = -1*i[0]\n",
    "\t\t\tb = i[1]\n",
    "\t\t\tnew_array.append((a,b))\n",
    "\t\tfor i in new_array:\n",
    "\t\t\tself.pqueue.put(i)\n",
    "\n",
    "list_stu = [(5,'Rina'),(1,'Anish'),(3,'Moana'),(2,'cathy'),(4,'Lucy')]\n",
    "priority_queue = priorityQueue()\n",
    "priority_queue.heapify(list_stu)\n",
    "print(\"priority queue = \", priority_queue.pqueue)\n",
    "priority_queue.insert(10, 'stiles')\n",
    "print(\"priority queue = \", priority_queue.pqueue)\n",
    "print(\"priority = \", priority_queue.get_priority())\n",
    "print(\"deletion =\", priority_queue.delete())\n",
    "print(\"deletion =\", priority_queue.delete())\n",
    "print(\"deletion =\", priority_queue.delete())\n",
    "print(\"deletion =\", priority_queue.delete())\n",
    "print(\"deletion =\", priority_queue.delete())\n",
    "print(\"deletion =\", priority_queue.delete())"
   ],
   "outputs": [
    {
     "output_type": "stream",
     "name": "stdout",
     "text": [
      "priority queue =  <queue.PriorityQueue object at 0x7f07317c4bd0>\n",
      "priority queue =  <queue.PriorityQueue object at 0x7f07317c4bd0>\n",
      "priority =  stiles\n",
      "deletion = (-10, 'stiles')\n",
      "deletion = (-5, 'Rina')\n",
      "deletion = (-4, 'Lucy')\n",
      "deletion = (-3, 'Moana')\n",
      "deletion = (-2, 'cathy')\n",
      "deletion = (-1, 'Anish')\n"
     ]
    }
   ],
   "metadata": {}
  }
 ],
 "metadata": {
  "orig_nbformat": 4,
  "language_info": {
   "name": "python",
   "version": "3.7.7",
   "mimetype": "text/x-python",
   "codemirror_mode": {
    "name": "ipython",
    "version": 3
   },
   "pygments_lexer": "ipython3",
   "nbconvert_exporter": "python",
   "file_extension": ".py"
  },
  "kernelspec": {
   "name": "python3",
   "display_name": "Python 3.7.7 64-bit ('base': conda)"
  },
  "interpreter": {
   "hash": "f90b651f7873d87fbd17202d2574a82c80be9543698b2fe813bd0990df612d6a"
  }
 },
 "nbformat": 4,
 "nbformat_minor": 2
}