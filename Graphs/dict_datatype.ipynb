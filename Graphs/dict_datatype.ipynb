{
 "cells": [
  {
   "cell_type": "code",
   "execution_count": null,
   "source": [
    "# https://www.geeksforgeeks.org/python-dictionary/"
   ],
   "outputs": [],
   "metadata": {}
  },
  {
   "cell_type": "code",
   "execution_count": 1,
   "source": [
    "# In Python, a Dictionary can be created by placing a sequence of elements within curly {} braces, \n",
    "# separated by ‘comma’. Dictionary holds a pair of values, \n",
    "# one being the Key and the other corresponding pair element being its Key:value. \n",
    "# Values in a dictionary can be of any datatype and can be duplicated, \n",
    "# whereas keys can’t be repeated and must be immutable."
   ],
   "outputs": [],
   "metadata": {}
  },
  {
   "cell_type": "code",
   "execution_count": null,
   "source": [
    "# Disclamer: It is important to note that Dictionaries have been modified \n",
    "# to maintain insertion order with the release of Python 3.7, \n",
    "# so they are now ordered collection of data values."
   ],
   "outputs": [],
   "metadata": {}
  },
  {
   "cell_type": "code",
   "execution_count": 2,
   "source": [
    "# Initialize a dictionary - version 1\n",
    "dict1 = {1:'hi', 2:'hello', 3:'how r u'}\n",
    "print(dict1)"
   ],
   "outputs": [
    {
     "output_type": "stream",
     "name": "stdout",
     "text": [
      "{1: 'hi', 2: 'hello', 3: 'how r u'}\n"
     ]
    }
   ],
   "metadata": {}
  },
  {
   "cell_type": "code",
   "execution_count": 3,
   "source": [
    "# Initialize a dictionary - version 2\n",
    "dict2 = {'a':'geeks', 1:[3,4,5]}\n",
    "print(dict2)"
   ],
   "outputs": [
    {
     "output_type": "stream",
     "name": "stdout",
     "text": [
      "{'a': 'geeks', 1: [3, 4, 5]}\n"
     ]
    }
   ],
   "metadata": {}
  },
  {
   "cell_type": "code",
   "execution_count": 4,
   "source": [
    "# Initialize a dictionary - version 3\n",
    "dict3 = {}\n",
    "print(dict3)"
   ],
   "outputs": [
    {
     "output_type": "stream",
     "name": "stdout",
     "text": [
      "{}\n"
     ]
    }
   ],
   "metadata": {}
  },
  {
   "cell_type": "code",
   "execution_count": 5,
   "source": [
    "# Initialize a dictionary - version 4\n",
    "dict4 = dict()\n",
    "print(dict4)"
   ],
   "outputs": [
    {
     "output_type": "stream",
     "name": "stdout",
     "text": [
      "{}\n"
     ]
    }
   ],
   "metadata": {}
  },
  {
   "cell_type": "code",
   "execution_count": 6,
   "source": [
    "# Initialize a dictionary - version 5\n",
    "dict5 = dict([[1,'geeks'], [2,'avg'], [3,'freaks']])\n",
    "print(dict5)"
   ],
   "outputs": [
    {
     "output_type": "stream",
     "name": "stdout",
     "text": [
      "{1: 'geeks', 2: 'avg', 3: 'freaks'}\n"
     ]
    }
   ],
   "metadata": {}
  },
  {
   "cell_type": "code",
   "execution_count": 7,
   "source": [
    "# We can have nested dictionary too\n",
    "dict6 = {1: 'Geeks', 2: 'For',\n",
    "        3:{'A' : 'Welcome', 'B' : 'To', 'C' : 'Geeks'}}\n",
    " \n",
    "print(dict6)"
   ],
   "outputs": [
    {
     "output_type": "stream",
     "name": "stdout",
     "text": [
      "{1: 'Geeks', 2: 'For', 3: {'A': 'Welcome', 'B': 'To', 'C': 'Geeks'}}\n"
     ]
    }
   ],
   "metadata": {}
  },
  {
   "cell_type": "code",
   "execution_count": 11,
   "source": [
    "# Adding elements to the dictionary\n",
    "\n",
    "# case 1\n",
    "dict7 = dict()\n",
    "dict7[1] = 'elena'\n",
    "dict7[2] = 'caroline'\n",
    "dict7[3] = 'witch'\n",
    "dict7['a'] = 'damon'\n",
    "print(dict7)\n",
    "\n",
    "# case 2\n",
    "# we can add a set of values to a single key\n",
    "# the set of values are added as tuples\n",
    "dict7['klaus'] = 3,4,5\n",
    "print(dict7)\n",
    "\n",
    "# case 3\n",
    "# update existing value of a key\n",
    "dict7['a'] = 'stephan'\n",
    "print(dict7)"
   ],
   "outputs": [
    {
     "output_type": "stream",
     "name": "stdout",
     "text": [
      "{1: 'elena', 2: 'caroline', 3: 'witch', 'a': 'damon'}\n",
      "{1: 'elena', 2: 'caroline', 3: 'witch', 'a': 'damon', 'klaus': (3, 4, 5)}\n",
      "{1: 'elena', 2: 'caroline', 3: 'witch', 'a': 'stephan', 'klaus': (3, 4, 5)}\n"
     ]
    }
   ],
   "metadata": {}
  },
  {
   "cell_type": "code",
   "execution_count": 14,
   "source": [
    "# Accessing elements from a dictionary\n",
    "# we can access elements using key\n",
    "\n",
    "# case 1\n",
    "print(dict7['a'])\n",
    "print(dict7[2])\n",
    "\n",
    "# case 2\n",
    "print(dict7.get('a'))\n",
    "print(dict7.get(2))"
   ],
   "outputs": [
    {
     "output_type": "stream",
     "name": "stdout",
     "text": [
      "stephan\n",
      "caroline\n",
      "stephan\n",
      "caroline\n"
     ]
    }
   ],
   "metadata": {}
  },
  {
   "cell_type": "code",
   "execution_count": 15,
   "source": [
    "# accessing nested dictionary\n",
    "Dict = {'Dict1': {1: 'Geeks'},\n",
    "        'Dict2': {'Name': 'For'}}\n",
    "\n",
    "print(Dict['Dict1'])\n",
    "print(Dict['Dict1'][1])\n",
    "print(Dict['Dict2']['Name'])"
   ],
   "outputs": [
    {
     "output_type": "stream",
     "name": "stdout",
     "text": [
      "{1: 'Geeks'}\n",
      "Geeks\n",
      "For\n"
     ]
    }
   ],
   "metadata": {}
  },
  {
   "cell_type": "code",
   "execution_count": 19,
   "source": [
    "# delete a key value pair from a dictionary\n",
    "\n",
    "# case 1\n",
    "dict7 = {1: 'elena', 2: 'caroline', 3: 'witch', 'a': 'stephan', 'klaus': (3, 4, 5)}\n",
    "print(dict7)\n",
    "del dict7['klaus']\n",
    "print(dict7)\n",
    "\n",
    "# case 2\n",
    "# this method return the key value before deleting it\n",
    "print(dict7)\n",
    "print(\"deleted element value =\",dict7.pop(3))\n",
    "print(dict7)\n"
   ],
   "outputs": [
    {
     "output_type": "stream",
     "name": "stdout",
     "text": [
      "{1: 'elena', 2: 'caroline', 3: 'witch', 'a': 'stephan', 'klaus': (3, 4, 5)}\n",
      "{1: 'elena', 2: 'caroline', 3: 'witch', 'a': 'stephan'}\n",
      "{1: 'elena', 2: 'caroline', 3: 'witch', 'a': 'stephan'}\n",
      "deleted element value = witch\n",
      "{1: 'elena', 2: 'caroline', 'a': 'stephan'}\n"
     ]
    }
   ],
   "metadata": {}
  },
  {
   "cell_type": "code",
   "execution_count": 20,
   "source": [
    "# delete all the elements in the dictionary at once\n",
    "print(dict7)\n",
    "dict7.clear()\n",
    "print(dict7)"
   ],
   "outputs": [
    {
     "output_type": "stream",
     "name": "stdout",
     "text": [
      "{1: 'elena', 2: 'caroline', 'a': 'stephan'}\n",
      "{}\n"
     ]
    }
   ],
   "metadata": {}
  },
  {
   "cell_type": "code",
   "execution_count": 26,
   "source": [
    "# Different levels of access\n",
    "dict8 = {1: 'scott', 2: 'stiles', 3: 'derek', 4: 'allision', 5: 'lydia'}\n",
    "\n",
    "# Access keys in the given dict - total = 3 ways, 2 usefulways\n",
    "print(\"return dictkeys object of keys =\", dict8.keys())\n",
    "print(\"return list object of keys =\", list(dict8.keys()))\n",
    "print(\"return list object of keys =\", list(dict8))\n",
    "\n",
    "# Access values in the given dict - total = 2 ways, 1 usefulways\n",
    "print(\"return dictvalues object of values =\", dict8.values())\n",
    "print(\"return list object of values =\", list(dict8.values()))\n",
    "\n",
    "# Access key-value pairs in the given dict - total = 2 ways, 1 usefulways\n",
    "print(\"return dict_items object of key-values =\", dict8.items())\n",
    "print(\"return list object of tuples of key-value pair =\", list(dict8.items()))\n"
   ],
   "outputs": [
    {
     "output_type": "stream",
     "name": "stdout",
     "text": [
      "return dictkeys object of keys = dict_keys([1, 2, 3, 4, 5])\n",
      "return list object of keys = [1, 2, 3, 4, 5]\n",
      "return list object of keys = [1, 2, 3, 4, 5]\n",
      "return dictvalues object of values = dict_values(['scott', 'stiles', 'derek', 'allision', 'lydia'])\n",
      "return list object of values = ['scott', 'stiles', 'derek', 'allision', 'lydia']\n",
      "return dict_items object of key-values = dict_items([(1, 'scott'), (2, 'stiles'), (3, 'derek'), (4, 'allision'), (5, 'lydia')])\n",
      "return list object of tuples of key-value pair = [(1, 'scott'), (2, 'stiles'), (3, 'derek'), (4, 'allision'), (5, 'lydia')]\n"
     ]
    }
   ],
   "metadata": {}
  },
  {
   "cell_type": "code",
   "execution_count": 30,
   "source": [
    "# Search key in a dictionary\n",
    "dict8 = {1: 'scott', 2: 'stiles', 3: 'derek', 4: 'allision', 5: 'lydia'}\n",
    "\n",
    "# case 1 - O(1)\n",
    "if 2 in dict8:\n",
    "\tprint(True)\n",
    "else:\n",
    "\tprint(False)\n",
    "\n",
    "if 6 in dict8:\n",
    "\tprint(True)\n",
    "else:\n",
    "\tprint(False)\n",
    "\n",
    "# case 2 - O(1)\n",
    "if 2 in dict8.keys():\n",
    "\tprint(True)\n",
    "else:\n",
    "\tprint(False)\n",
    "\n",
    "# case 3 - O(n)\n",
    "if 2 in list(dict8.keys()):\n",
    "\tprint(True)\n",
    "else:\n",
    "\tprint(False)"
   ],
   "outputs": [
    {
     "output_type": "stream",
     "name": "stdout",
     "text": [
      "True\n",
      "False\n",
      "True\n",
      "True\n"
     ]
    }
   ],
   "metadata": {}
  },
  {
   "cell_type": "code",
   "execution_count": 36,
   "source": [
    "# Search value in a dictionary\n",
    "dict8 = {1: 'scott', 2: 'stiles', 3: 'derek', 4: 'allision', 5: 'lydia'}\n",
    "\n",
    "# case 1 - O(1)\n",
    "if 'scott' in dict8.values():\n",
    "\tprint(True)\n",
    "else:\n",
    "\tprint(False)\n",
    "\n",
    "# case 2 - O(n)\n",
    "if 'scott' in list(dict8.values()):\n",
    "\tprint(True)\n",
    "else:\n",
    "\tprint(False)"
   ],
   "outputs": [
    {
     "output_type": "stream",
     "name": "stdout",
     "text": [
      "True\n",
      "True\n"
     ]
    }
   ],
   "metadata": {}
  },
  {
   "cell_type": "code",
   "execution_count": 37,
   "source": [
    "# For more operations with python dictionary datatype go to\n",
    "# https://www.geeksforgeeks.org/python-dictionary/"
   ],
   "outputs": [],
   "metadata": {}
  }
 ],
 "metadata": {
  "orig_nbformat": 4,
  "language_info": {
   "name": "python",
   "version": "3.7.7",
   "mimetype": "text/x-python",
   "codemirror_mode": {
    "name": "ipython",
    "version": 3
   },
   "pygments_lexer": "ipython3",
   "nbconvert_exporter": "python",
   "file_extension": ".py"
  },
  "kernelspec": {
   "name": "python3",
   "display_name": "Python 3.7.7 64-bit ('base': conda)"
  },
  "interpreter": {
   "hash": "f90b651f7873d87fbd17202d2574a82c80be9543698b2fe813bd0990df612d6a"
  }
 },
 "nbformat": 4,
 "nbformat_minor": 2
}