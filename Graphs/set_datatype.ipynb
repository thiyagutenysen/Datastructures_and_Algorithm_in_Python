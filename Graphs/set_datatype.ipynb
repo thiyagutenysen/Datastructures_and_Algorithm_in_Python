{
 "cells": [
  {
   "cell_type": "code",
   "execution_count": 2,
   "source": [
    "# https://www.geeksforgeeks.org/sets-in-python/"
   ],
   "outputs": [],
   "metadata": {}
  },
  {
   "cell_type": "code",
   "execution_count": null,
   "source": [
    "# A Set is an unordered collection data type that is iterable, mutable and has no duplicate elements.\n",
    "# The major advantage of using a set, \n",
    "# as opposed to a list, \n",
    "# is that it has a highly optimized method for checking whether a specific element is contained in the set."
   ],
   "outputs": [],
   "metadata": {}
  },
  {
   "cell_type": "code",
   "execution_count": 3,
   "source": [
    "# initialize a set - 1\n",
    "myset = set([1,2,3])"
   ],
   "outputs": [],
   "metadata": {}
  },
  {
   "cell_type": "code",
   "execution_count": 4,
   "source": [
    "# initialize a set - 2\n",
    "myset_2 = set()"
   ],
   "outputs": [],
   "metadata": {}
  },
  {
   "cell_type": "code",
   "execution_count": 14,
   "source": [
    "# initialize a set - 3\n",
    "myset_3 = {'a', 'b', 'c', 'a'}\n",
    "print(myset_3)"
   ],
   "outputs": [
    {
     "output_type": "stream",
     "name": "stdout",
     "text": [
      "{'c', 'a', 'b'}\n"
     ]
    }
   ],
   "metadata": {}
  },
  {
   "cell_type": "code",
   "execution_count": 5,
   "source": [
    "# add elements to the set\n",
    "myset_2.add(4)\n",
    "print(myset_2)"
   ],
   "outputs": [
    {
     "output_type": "stream",
     "name": "stdout",
     "text": [
      "{4}\n"
     ]
    }
   ],
   "metadata": {}
  },
  {
   "cell_type": "code",
   "execution_count": 19,
   "source": [
    "# Delete an element from the set\n",
    "new_set = {1,2,3,4,5,6,7}\n",
    "new_set.remove(4)\n",
    "print(new_set)"
   ],
   "outputs": [
    {
     "output_type": "stream",
     "name": "stdout",
     "text": [
      "{1, 2, 3, 5, 6, 7}\n"
     ]
    }
   ],
   "metadata": {}
  },
  {
   "cell_type": "code",
   "execution_count": 25,
   "source": [
    "# Delete a random element from the set\n",
    "new_set2 = {1,2,3,4,5}\n",
    "print(\"popped_element =\", new_set2.pop())\n",
    "print(new_set2)"
   ],
   "outputs": [
    {
     "output_type": "stream",
     "name": "stdout",
     "text": [
      "popped_element = 1\n",
      "{2, 3, 4, 5}\n"
     ]
    }
   ],
   "metadata": {}
  },
  {
   "cell_type": "code",
   "execution_count": 6,
   "source": [
    "# Another kind of set is frozen set - it is kind of a tuple version of normal set\n",
    "# frozen set is immutable, it can only be used to lookup\n",
    "myfrozenset = frozenset([2,3,4])\n",
    "print(myfrozenset)"
   ],
   "outputs": [
    {
     "output_type": "stream",
     "name": "stdout",
     "text": [
      "frozenset({2, 3, 4})\n"
     ]
    }
   ],
   "metadata": {}
  },
  {
   "cell_type": "code",
   "execution_count": 9,
   "source": [
    "# Union operation\n",
    "people = {'alaric', 'elena', 'matt'}\n",
    "vampires = {'elena', 'stephan', 'damon'}\n",
    "# version 1\n",
    "town_people = people.union(vampires)\n",
    "print(town_people)\n",
    "# version 2\n",
    "# town_people = people|vampires\n",
    "# print(town_people)"
   ],
   "outputs": [
    {
     "output_type": "stream",
     "name": "stdout",
     "text": [
      "{'matt', 'damon', 'elena', 'alaric', 'stephan'}\n"
     ]
    }
   ],
   "metadata": {}
  },
  {
   "cell_type": "code",
   "execution_count": 11,
   "source": [
    "# intersection operation\n",
    "# version 1\n",
    "super_natural = people.intersection(vampires)\n",
    "print(super_natural)\n",
    "# version 2\n",
    "# super_natural = people & vampires\n",
    "# print(super_natural)"
   ],
   "outputs": [
    {
     "output_type": "stream",
     "name": "stdout",
     "text": [
      "{'elena'}\n"
     ]
    }
   ],
   "metadata": {}
  },
  {
   "cell_type": "code",
   "execution_count": 13,
   "source": [
    "# Difference of two sets\n",
    "# version 1\n",
    "# normal_natural = people.difference(vampires)\n",
    "# print(normal_natural)\n",
    "# version 2\n",
    "normal_natural = people - vampires\n",
    "print(normal_natural)"
   ],
   "outputs": [
    {
     "output_type": "stream",
     "name": "stdout",
     "text": [
      "{'matt', 'alaric'}\n"
     ]
    }
   ],
   "metadata": {}
  },
  {
   "cell_type": "code",
   "execution_count": 15,
   "source": [
    "# Delete all the elements in a set\n",
    "myset_4 = {1,2,3,4,5,6,7,8,9}\n",
    "myset_4.clear()\n",
    "print(myset_4)"
   ],
   "outputs": [
    {
     "output_type": "stream",
     "name": "stdout",
     "text": [
      "set()\n"
     ]
    }
   ],
   "metadata": {}
  },
  {
   "cell_type": "code",
   "execution_count": 17,
   "source": [
    "# Look up in a set\n",
    "# ie., search for an element in the set\n",
    "# time take is O(1)\n",
    "vampires = {'elena', 'stephan', 'damon'}\n",
    "if 'damon' in vampires: # we can use not in too\n",
    "\tprint(\"yes\")"
   ],
   "outputs": [
    {
     "output_type": "stream",
     "name": "stdout",
     "text": [
      "yes\n"
     ]
    }
   ],
   "metadata": {}
  },
  {
   "cell_type": "code",
   "execution_count": 18,
   "source": [
    "# To learn more operations involved with set datatype go to\n",
    "# https://www.geeksforgeeks.org/sets-in-python/"
   ],
   "outputs": [],
   "metadata": {}
  }
 ],
 "metadata": {
  "orig_nbformat": 4,
  "language_info": {
   "name": "python",
   "version": "3.7.7",
   "mimetype": "text/x-python",
   "codemirror_mode": {
    "name": "ipython",
    "version": 3
   },
   "pygments_lexer": "ipython3",
   "nbconvert_exporter": "python",
   "file_extension": ".py"
  },
  "kernelspec": {
   "name": "python3",
   "display_name": "Python 3.7.7 64-bit ('base': conda)"
  },
  "interpreter": {
   "hash": "f90b651f7873d87fbd17202d2574a82c80be9543698b2fe813bd0990df612d6a"
  }
 },
 "nbformat": 4,
 "nbformat_minor": 2
}