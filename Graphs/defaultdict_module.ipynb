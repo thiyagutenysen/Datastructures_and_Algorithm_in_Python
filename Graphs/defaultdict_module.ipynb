{
 "cells": [
  {
   "cell_type": "code",
   "execution_count": 18,
   "source": [
    "# https://www.geeksforgeeks.org/defaultdict-in-python/"
   ],
   "outputs": [],
   "metadata": {}
  },
  {
   "cell_type": "code",
   "execution_count": 17,
   "source": [
    "# Defaultdict is a container like dictionaries present in the module collections. \n",
    "# Defaultdict is a sub-class of the dict class that returns a dictionary-like object. \n",
    "# The functionality of both dictionaries and defualtdict are almost same except \n",
    "# for the fact that defualtdict never raises a KeyError. \n",
    "# It provides a default value for the key that does not exists."
   ],
   "outputs": [],
   "metadata": {}
  },
  {
   "cell_type": "code",
   "execution_count": 3,
   "source": [
    "from collections import defaultdict"
   ],
   "outputs": [],
   "metadata": {}
  },
  {
   "cell_type": "code",
   "execution_count": 4,
   "source": [
    "# default return value defined by us\n",
    "def default_value():\n",
    "\treturn \"not_present\""
   ],
   "outputs": [],
   "metadata": {}
  },
  {
   "cell_type": "code",
   "execution_count": 5,
   "source": [
    "# Syntax: defaultdict(default_factory)\n",
    "# Parameters:\n",
    "# default_factory: A function returning the default value for the dictionary defined. \n",
    "# If this argument is absent then the dictionary raises a KeyError.\n",
    "\n",
    "# initializing the dictionary\n",
    "d = defaultdict(default_value)"
   ],
   "outputs": [],
   "metadata": {}
  },
  {
   "cell_type": "code",
   "execution_count": 6,
   "source": [
    "# add elements to dictionary\n",
    "d[\"a\"] = 1\n",
    "d[\"b\"] = 2"
   ],
   "outputs": [],
   "metadata": {}
  },
  {
   "cell_type": "code",
   "execution_count": 7,
   "source": [
    "#output\n",
    "print(d[\"a\"])\n",
    "print(d[\"b\"])\n",
    "print(d[\"c\"])"
   ],
   "outputs": [
    {
     "output_type": "stream",
     "name": "stdout",
     "text": [
      "1\n",
      "2\n",
      "not_present\n"
     ]
    }
   ],
   "metadata": {}
  },
  {
   "cell_type": "code",
   "execution_count": 8,
   "source": [
    "# as you can see in the above cell \"c\" is not present in the dictionary, if it had been a normal dictionary,\n",
    "# the print statement would raise error, but here a default function defined by us is called instead of\n",
    "# raising an error"
   ],
   "outputs": [],
   "metadata": {}
  },
  {
   "cell_type": "code",
   "execution_count": 14,
   "source": [
    "# Pass list as an default argument instead of a function\n",
    "# the default function returns an empty list\n",
    "d = defaultdict(list)\n",
    "\n",
    "for i in range(5):\n",
    "\td[i].append(None)\n",
    "\n",
    "print(d)"
   ],
   "outputs": [
    {
     "output_type": "stream",
     "name": "stdout",
     "text": [
      "defaultdict(<class 'list'>, {0: [None], 1: [None], 2: [None], 3: [None], 4: [None]})\n"
     ]
    }
   ],
   "metadata": {}
  },
  {
   "cell_type": "code",
   "execution_count": 15,
   "source": [
    "# Pass int as an default argument instead of a function\n",
    "# the default function returns 0\n",
    "\n",
    "d = defaultdict(int)\n",
    "\n",
    "for i in range(5):\n",
    "\td[i] += 1\n",
    "\n",
    "print(d)"
   ],
   "outputs": [
    {
     "output_type": "stream",
     "name": "stdout",
     "text": [
      "defaultdict(<class 'int'>, {0: 1, 1: 1, 2: 1, 3: 1, 4: 1})\n"
     ]
    }
   ],
   "metadata": {}
  },
  {
   "cell_type": "code",
   "execution_count": 16,
   "source": [
    "# application of passing an int as default argument\n",
    "# problem: find unique numbers and their count from the given list of numbers\n",
    "\n",
    "L = [1, 2, 3, 4, 2, 4, 1, 2]\n",
    "d = defaultdict(int)\n",
    "for i in L:\n",
    "\td[i]+=1\n",
    "print(d)"
   ],
   "outputs": [
    {
     "output_type": "stream",
     "name": "stdout",
     "text": [
      "defaultdict(<class 'int'>, {1: 2, 2: 3, 3: 1, 4: 2})\n"
     ]
    }
   ],
   "metadata": {}
  }
 ],
 "metadata": {
  "orig_nbformat": 4,
  "language_info": {
   "name": "python",
   "version": "3.7.7",
   "mimetype": "text/x-python",
   "codemirror_mode": {
    "name": "ipython",
    "version": 3
   },
   "pygments_lexer": "ipython3",
   "nbconvert_exporter": "python",
   "file_extension": ".py"
  },
  "kernelspec": {
   "name": "python3",
   "display_name": "Python 3.7.7 64-bit ('base': conda)"
  },
  "interpreter": {
   "hash": "f90b651f7873d87fbd17202d2574a82c80be9543698b2fe813bd0990df612d6a"
  }
 },
 "nbformat": 4,
 "nbformat_minor": 2
}